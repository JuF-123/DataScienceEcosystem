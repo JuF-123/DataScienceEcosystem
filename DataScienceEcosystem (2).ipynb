{
 "cells": [
  {
   "cell_type": "markdown",
   "id": "284566d2-4bbd-4514-8317-36c3ad635c03",
   "metadata": {},
   "source": [
    "# Data Science Tools and Ecosystem"
   ]
  },
  {
   "cell_type": "markdown",
   "id": "45d133d1-f432-4df1-9b30-e94797288396",
   "metadata": {},
   "source": [
    "In this notebook, Data Science Tools and Ecosystem are summarized"
   ]
  },
  {
   "cell_type": "markdown",
   "id": "d40715cc-2e2b-4560-9111-0bb088cf2110",
   "metadata": {},
   "source": [
    "**Objectives:**\n",
    "- List popular languages for Data Science\n",
    "- Jupyter notebook\n",
    "- Github\n",
    "- R language"
   ]
  },
  {
   "cell_type": "markdown",
   "id": "c771336f-79c5-4c11-87ca-b42211f0181c",
   "metadata": {},
   "source": [
    "Some of the popular languages that Data Scientists use are:\n",
    "1. Phyton\n",
    "2. R\n",
    "3. SQL\n",
    "4. Java"
   ]
  },
  {
   "cell_type": "markdown",
   "id": "c329c602-0461-44f3-bdbc-80a7acb5f54f",
   "metadata": {
    "tags": []
   },
   "source": [
    "Some of the commonly used libraries used by Data Scientists include:\n",
    "1. TensorFlow.\n",
    "2. NumPy.\n",
    "3. SciPy."
   ]
  },
  {
   "cell_type": "markdown",
   "id": "fe773ef5-a60b-4ef1-8fec-f0c37a2ca943",
   "metadata": {},
   "source": [
    "| Data Science Tools |\n",
    "|------------------|\n",
    "| Git |\n",
    "| Apache Subversion |\n",
    "| Eclipse IDE |"
   ]
  },
  {
   "cell_type": "markdown",
   "id": "5d0791f0-8903-4106-81da-20f8f2ec06c9",
   "metadata": {},
   "source": [
    "| Data Science Tools |\n",
    "|------------------|\n",
    "| Git |\n",
    "| Apache Subversion |\n",
    "| Eclipse IDE |"
   ]
  },
  {
   "cell_type": "markdown",
   "id": "5688042b-5134-43e5-ae1b-f10ef638e2f5",
   "metadata": {},
   "source": [
    "### Below are a few examples of evaluating arithmetic expressions in Python"
   ]
  },
  {
   "cell_type": "code",
   "execution_count": 5,
   "id": "81cf7a2b-aee0-47c9-948a-9f0e8b3ad8f4",
   "metadata": {},
   "outputs": [
    {
     "data": {
      "text/plain": [
       "17"
      ]
     },
     "execution_count": 5,
     "metadata": {},
     "output_type": "execute_result"
    }
   ],
   "source": [
    "# This a simple arithmetic expression to mutiply then add integers\n",
    "\n",
    "(3*4)+5"
   ]
  },
  {
   "cell_type": "code",
   "execution_count": 6,
   "id": "c2cb33b7-acdb-4975-923f-ff3c4d8f83cf",
   "metadata": {},
   "outputs": [
    {
     "data": {
      "text/plain": [
       "3.3333333333333335"
      ]
     },
     "execution_count": 6,
     "metadata": {},
     "output_type": "execute_result"
    }
   ],
   "source": [
    "# This will convert 200 minutes to hours by diving by 60\n",
    "200/60"
   ]
  },
  {
   "cell_type": "markdown",
   "id": "ebbcd13f-c705-4c0c-98b4-766f41a62da0",
   "metadata": {},
   "source": [
    "## Auhtor\n",
    "Joana"
   ]
  },
  {
   "cell_type": "markdown",
   "id": "26bae3b0-5bfe-46c0-8910-a8fb40da7b46",
   "metadata": {},
   "source": [
    "## Auhtor\n",
    "Joana"
   ]
  },
  {
   "cell_type": "markdown",
   "id": "59de7fc8-3a42-4749-82b2-b5982935974b",
   "metadata": {},
   "source": [
    "## Github link\n",
    "<https://github.com/JuF-123/DataScienceEcosystem/blob/953db18117b0b684c96ddfafbf766a28d70884f2/DataScienceEcosystem%20(1).ipynb>"
   ]
  },
  {
   "cell_type": "code",
   "execution_count": null,
   "id": "a74b9bb7-dd03-49b4-b71f-2f723e76ce42",
   "metadata": {},
   "outputs": [],
   "source": []
  }
 ],
 "metadata": {
  "kernelspec": {
   "display_name": "Python",
   "language": "python",
   "name": "conda-env-python-py"
  },
  "language_info": {
   "codemirror_mode": {
    "name": "ipython",
    "version": 3
   },
   "file_extension": ".py",
   "mimetype": "text/x-python",
   "name": "python",
   "nbconvert_exporter": "python",
   "pygments_lexer": "ipython3",
   "version": "3.7.12"
  }
 },
 "nbformat": 4,
 "nbformat_minor": 5
}
